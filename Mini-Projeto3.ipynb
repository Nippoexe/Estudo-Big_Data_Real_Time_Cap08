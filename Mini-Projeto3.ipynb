{
 "cells": [
  {
   "cell_type": "markdown",
   "metadata": {},
   "source": [
    "# <font color='blue'>Data Science Academy</font>\n",
    "# <font color='blue'>Big Data Real-Time Analytics com Python e Spark</font>\n",
    "\n",
    "## <font color='blue'>Mini-Projeto 3</font>\n",
    "\n",
    "### <font color='blue'>Prevendo a Cotação de Criptomoedas em Tempo Real com PySpark e Machine Learning</font>"
   ]
  },
  {
   "cell_type": "markdown",
   "metadata": {},
   "source": [
    "Leia os manuais em pdf no Capítulo 11 do curso com a definição do problema e a fonte de dados."
   ]
  },
  {
   "cell_type": "markdown",
   "metadata": {},
   "source": [
    "![title](imagens/MP3.png)"
   ]
  },
  {
   "cell_type": "code",
   "execution_count": 1,
   "metadata": {},
   "outputs": [
    {
     "name": "stdout",
     "output_type": "stream",
     "text": [
      "Versão da Linguagem Python Usada Neste Jupyter Notebook: 3.11.4\n"
     ]
    }
   ],
   "source": [
    "# Versão da Linguagem Python\n",
    "from platform import python_version\n",
    "print('Versão da Linguagem Python Usada Neste Jupyter Notebook:', python_version())"
   ]
  },
  {
   "cell_type": "code",
   "execution_count": 2,
   "metadata": {},
   "outputs": [],
   "source": [
    "# Para atualizar um pacote, execute o comando abaixo no terminal ou prompt de comando:\n",
    "# pip install -U nome_pacote\n",
    "\n",
    "# Para instalar a versão exata de um pacote, execute o comando abaixo no terminal ou prompt de comando:\n",
    "#!pip install nome_pacote==versão_desejada\n",
    "\n",
    "# Depois de instalar ou atualizar o pacote, reinicie o jupyter notebook.\n",
    "\n",
    "# Instala o pacote watermark. \n",
    "# Esse pacote é usado para gravar as versões de outros pacotes usados neste jupyter notebook.\n",
    "#!pip install -q -U watermark"
   ]
  },
  {
   "cell_type": "code",
   "execution_count": 3,
   "metadata": {},
   "outputs": [],
   "source": [
    "# https://pypi.org/project/findspark/\n",
    "# !pip install -q findspark"
   ]
  },
  {
   "cell_type": "code",
   "execution_count": 4,
   "metadata": {},
   "outputs": [],
   "source": [
    "# Importa o findspark e inicializa\n",
    "import findspark\n",
    "findspark.init()"
   ]
  },
  {
   "cell_type": "code",
   "execution_count": 5,
   "metadata": {
    "id": "CPDsD_yhZrO1"
   },
   "outputs": [],
   "source": [
    "# Imports\n",
    "import pyspark\n",
    "import pandas as pd\n",
    "import numpy as np\n",
    "import seaborn as sns\n",
    "from matplotlib import pyplot as plt\n",
    "from pyspark import SparkConf, SparkContext\n",
    "from pyspark.sql import SparkSession, SQLContext\n",
    "from pyspark.sql.types import *\n",
    "from pyspark.sql.functions import *\n",
    "from pyspark.ml.linalg import Vectors\n",
    "from pyspark.ml.feature import StringIndexer\n",
    "from pyspark.ml.regression import LinearRegression\n",
    "from pyspark.mllib.evaluation import RegressionMetrics\n",
    "from pyspark.ml.linalg import Vectors\n",
    "from pyspark.ml.feature import StringIndexer\n",
    "from pyspark.ml.stat import Correlation\n",
    "from pyspark.ml.feature import MinMaxScaler\n",
    "from pyspark.ml.feature import VectorAssembler\n",
    "from pyspark.ml import Pipeline\n",
    "from pyspark.ml.tuning import ParamGridBuilder, CrossValidator, CrossValidatorModel\n",
    "from pyspark.ml.feature import VectorAssembler, StandardScaler\n",
    "from pyspark.ml.evaluation import RegressionEvaluator"
   ]
  },
  {
   "cell_type": "code",
   "execution_count": 6,
   "metadata": {},
   "outputs": [],
   "source": [
    "# Formatação das saídas\n",
    "pd.set_option('display.max_columns', 200)\n",
    "pd.set_option('display.max_colwidth', 400)\n",
    "from matplotlib.axes._axes import _log as matplotlib_axes_logger\n",
    "matplotlib_axes_logger.setLevel('ERROR')"
   ]
  },
  {
   "cell_type": "code",
   "execution_count": 7,
   "metadata": {},
   "outputs": [
    {
     "name": "stdout",
     "output_type": "stream",
     "text": [
      "Author: Data Science Academy\n",
      "\n",
      "seaborn   : 0.12.2\n",
      "numpy     : 1.24.3\n",
      "sys       : 3.11.4 | packaged by Anaconda, Inc. | (main, Jul  5 2023, 13:38:37) [MSC v.1916 64 bit (AMD64)]\n",
      "decimal   : 1.70\n",
      "findspark : 2.0.1\n",
      "pandas    : 1.5.3\n",
      "pyspark   : 3.5.1\n",
      "matplotlib: 3.7.1\n",
      "\n"
     ]
    }
   ],
   "source": [
    "# Versões dos pacotes usados neste jupyter notebook\n",
    "%reload_ext watermark\n",
    "%watermark -a \"Data Science Academy\" --iversions"
   ]
  },
  {
   "cell_type": "markdown",
   "metadata": {},
   "source": [
    "## Preparando o Ambiente Spark\n",
    "\n",
    "Leia o manual em pdf no Capítulo 11 do curso, com os detalhes sobre como conectamos em um cluster Spark."
   ]
  },
  {
   "cell_type": "code",
   "execution_count": 8,
   "metadata": {
    "id": "eeFpjeqJZ6Nf"
   },
   "outputs": [],
   "source": [
    "# Definindo semente aleatória (seed) para reprodutibilidade do notebook\n",
    "rnd_seed = 23\n",
    "np.random.seed = rnd_seed\n",
    "np.random.set_state = rnd_seed"
   ]
  },
  {
   "cell_type": "code",
   "execution_count": 9,
   "metadata": {
    "id": "BQTuvaMhKkrK"
   },
   "outputs": [],
   "source": [
    "# Criando o Spark Context\n",
    "sc = SparkContext(appName = \"Mini-Projeto3\")"
   ]
  },
  {
   "cell_type": "code",
   "execution_count": 10,
   "metadata": {},
   "outputs": [],
   "source": [
    "# Criando a sessão Spark\n",
    "spark_session = SparkSession.Builder().getOrCreate()"
   ]
  },
  {
   "cell_type": "code",
   "execution_count": 11,
   "metadata": {
    "colab": {
     "base_uri": "https://localhost:8080/",
     "height": 219
    },
    "id": "Ec8oNb8qK6Pm",
    "outputId": "1653edd4-1ee3-41fa-d53c-6fe717b0aac5"
   },
   "outputs": [
    {
     "data": {
      "text/html": [
       "\n",
       "            <div>\n",
       "                <p><b>SparkSession - in-memory</b></p>\n",
       "                \n",
       "        <div>\n",
       "            <p><b>SparkContext</b></p>\n",
       "\n",
       "            <p><a href=\"http://Nippo:4040\">Spark UI</a></p>\n",
       "\n",
       "            <dl>\n",
       "              <dt>Version</dt>\n",
       "                <dd><code>v3.5.1</code></dd>\n",
       "              <dt>Master</dt>\n",
       "                <dd><code>local[*]</code></dd>\n",
       "              <dt>AppName</dt>\n",
       "                <dd><code>Mini-Projeto3</code></dd>\n",
       "            </dl>\n",
       "        </div>\n",
       "        \n",
       "            </div>\n",
       "        "
      ],
      "text/plain": [
       "<pyspark.sql.session.SparkSession at 0x19fa2c47b50>"
      ]
     },
     "execution_count": 11,
     "metadata": {},
     "output_type": "execute_result"
    }
   ],
   "source": [
    "# Visualiza o objeto spark_session\n",
    "spark_session"
   ]
  },
  {
   "cell_type": "markdown",
   "metadata": {},
   "source": [
    "## Carregando os Dados"
   ]
  },
  {
   "cell_type": "code",
   "execution_count": 12,
   "metadata": {
    "id": "MrRYMdxGM2SJ"
   },
   "outputs": [],
   "source": [
    "# Carrega os dados a partir da sessão Spark\n",
    "path = \"D:/FCDados/[02] - Big_Data_Real_Time_Analytics_com_Python_Spark/[09] - Processamento_Apache_Spark/[01] - InputData/\"\n",
    "\n",
    "\n",
    "df_spark = spark_session.read.csv(r'D:/FCDados/[02] - Big_Data_Real_Time_Analytics_com_Python_Spark/[09] - Processamento_Apache_Spark/[01] - InputData/dataset.csv')\n",
    "#df_spark = spark_session.read.format(\"CSV\").option(\"sep\",\";\").option(\"header\", \"true\").load(r'D:/FCDados/[02] - Big_Data_Real_Time_Analytics_com_Python_Spark/[09] - Processamento_Apache_Spark/[01] - InputData/dataset.csv')\n",
    "\n",
    "#df_spark = spark_session.read.csv(path + 'dataset.csv', header = 'true', inferSchema = 'true')"
   ]
  },
  {
   "cell_type": "code",
   "execution_count": null,
   "metadata": {},
   "outputs": [],
   "source": [
    "# Tipo do objeto\n",
    "type(df_spark)"
   ]
  },
  {
   "cell_type": "code",
   "execution_count": null,
   "metadata": {
    "colab": {
     "base_uri": "https://localhost:8080/"
    },
    "id": "9COe3UZhO0D5",
    "outputId": "dfd48aee-686c-4ec5-8892-214e16a64c72"
   },
   "outputs": [],
   "source": [
    "# Visualiza os dados\n",
    "df_spark.show()"
   ]
  },
  {
   "cell_type": "code",
   "execution_count": null,
   "metadata": {
    "colab": {
     "base_uri": "https://localhost:8080/"
    },
    "id": "lLR1WMTfO42i",
    "outputId": "e98a0c8d-550b-46af-eb84-9670cec7fd14"
   },
   "outputs": [],
   "source": [
    "# Visualiza os metadados (schema)\n",
    "df_spark.printSchema()"
   ]
  },
  {
   "cell_type": "code",
   "execution_count": null,
   "metadata": {
    "colab": {
     "base_uri": "https://localhost:8080/"
    },
    "id": "sBjjtJ9kO-fO",
    "outputId": "cff87ea9-d91d-43ea-f30b-3b97990e55d2"
   },
   "outputs": [],
   "source": [
    "# Verifica o número de linhas\n",
    "df_spark.count()"
   ]
  },
  {
   "cell_type": "markdown",
   "metadata": {},
   "source": [
    "## Data Wrangling com SparkSQL\n",
    "\n",
    "Leia os manuais em pdf no Capítulo 11 do curso com as definições de DataFrames, RDDs, Transformações e Ações."
   ]
  },
  {
   "cell_type": "code",
   "execution_count": null,
   "metadata": {},
   "outputs": [],
   "source": [
    "# Cria uma tabela temporária a partir do dataframe\n",
    "# As tabelas temporárias são úteis quando você deseja que o conjunto de resultados fique visível \n",
    "# para todas as outras sessões Spark\n",
    "df_spark.createOrReplaceTempView('dados_bitcoin') "
   ]
  },
  {
   "cell_type": "code",
   "execution_count": null,
   "metadata": {},
   "outputs": [],
   "source": [
    "# Executa uma consulta SQL\n",
    "df_bitcoin = spark_session.sql(\"select *, from_unixtime(Timestamp) as `dateTime` from dados_bitcoin\")"
   ]
  },
  {
   "cell_type": "code",
   "execution_count": null,
   "metadata": {},
   "outputs": [],
   "source": [
    "type(df_bitcoin)"
   ]
  },
  {
   "cell_type": "code",
   "execution_count": null,
   "metadata": {},
   "outputs": [],
   "source": [
    "# Visualiza os dados\n",
    "df_bitcoin.show()"
   ]
  },
  {
   "cell_type": "code",
   "execution_count": null,
   "metadata": {},
   "outputs": [],
   "source": [
    "# Remove valores NA (não faz sentido qualquer tratamento aqui, pois todas as colunas de cotações estão como NA)\n",
    "df_bitcoin = df_bitcoin.dropna('any')"
   ]
  },
  {
   "cell_type": "code",
   "execution_count": null,
   "metadata": {
    "colab": {
     "base_uri": "https://localhost:8080/"
    },
    "id": "c7KBfhd_PwhO",
    "outputId": "33543c38-656e-4822-da97-9ba900cc69a0"
   },
   "outputs": [],
   "source": [
    "# Visualiza os dados\n",
    "df_bitcoin.show()"
   ]
  },
  {
   "cell_type": "code",
   "execution_count": null,
   "metadata": {
    "colab": {
     "base_uri": "https://localhost:8080/"
    },
    "id": "OVDc9h7hQQF0",
    "outputId": "ebb4fde5-9789-461c-8c98-bb5613fd979f"
   },
   "outputs": [],
   "source": [
    "# Número de registros\n",
    "df_bitcoin.count()"
   ]
  },
  {
   "cell_type": "code",
   "execution_count": null,
   "metadata": {
    "id": "hOc0tS4IRAl9"
   },
   "outputs": [],
   "source": [
    "# Vamos renomear algumas colunas para facilitar a manipulação dos dados\n",
    "df_bitcoin = df_bitcoin.withColumnRenamed(\"Volume_(BTC)\", \"VolBTC\").withColumnRenamed(\"Volume_(Currency)\", \"VolCurrency\")"
   ]
  },
  {
   "cell_type": "code",
   "execution_count": null,
   "metadata": {
    "colab": {
     "base_uri": "https://localhost:8080/"
    },
    "id": "gASzkA4nRNl3",
    "outputId": "4dde2d5a-4ef4-48bb-c21d-0a03fd45a00a"
   },
   "outputs": [],
   "source": [
    "# Visualiza\n",
    "df_bitcoin.show()"
   ]
  },
  {
   "cell_type": "markdown",
   "metadata": {},
   "source": [
    "> A coluna dateTime fornece os detalhes da data da cotação. Vamos separar os elementos da data em diferentes colunas."
   ]
  },
  {
   "cell_type": "code",
   "execution_count": null,
   "metadata": {},
   "outputs": [],
   "source": [
    "# Vamos dividir o dataframe extraindo data\n",
    "df_data = df_bitcoin.withColumn(\"date\", split(col(\"dateTime\"),\" \").getItem(0))"
   ]
  },
  {
   "cell_type": "code",
   "execution_count": null,
   "metadata": {},
   "outputs": [],
   "source": [
    "type(df_data)"
   ]
  },
  {
   "cell_type": "code",
   "execution_count": null,
   "metadata": {},
   "outputs": [],
   "source": [
    "# Vamos dividir o dataframe extraindo tempo\n",
    "df_data = df_data.withColumn(\"time\", split(col(\"dateTime\"),\" \").getItem(1))"
   ]
  },
  {
   "cell_type": "code",
   "execution_count": null,
   "metadata": {},
   "outputs": [],
   "source": [
    "# Schema\n",
    "df_data.printSchema()"
   ]
  },
  {
   "cell_type": "code",
   "execution_count": null,
   "metadata": {},
   "outputs": [],
   "source": [
    "# Visualiza os dados\n",
    "df_data.show()"
   ]
  },
  {
   "cell_type": "code",
   "execution_count": null,
   "metadata": {
    "id": "G_YvoMKEEN35"
   },
   "outputs": [],
   "source": [
    "# Vamos dividir o dataframe extraindo a hora\n",
    "df_data_hora = df_data.withColumn(\"hour\", split(col(\"time\"),\":\").getItem(0))"
   ]
  },
  {
   "cell_type": "code",
   "execution_count": null,
   "metadata": {},
   "outputs": [],
   "source": [
    "df_data_hora.printSchema()"
   ]
  },
  {
   "cell_type": "code",
   "execution_count": null,
   "metadata": {},
   "outputs": [],
   "source": [
    "df_data_hora.show()"
   ]
  },
  {
   "cell_type": "code",
   "execution_count": null,
   "metadata": {
    "id": "uh0C5gM-EaCO"
   },
   "outputs": [],
   "source": [
    "# Vamos ajustar o formato da data para extrair o dia da semana\n",
    "df_data_hora = df_data_hora.withColumn(\"date\", df_data_hora[\"date\"].cast(DateType())).withColumn(\"hour\", df_data_hora[\"hour\"].cast(DoubleType())).withColumn(\"dateTime\", df_data_hora[\"dateTime\"].cast(DateType()))\n"
   ]
  },
  {
   "cell_type": "code",
   "execution_count": null,
   "metadata": {},
   "outputs": [],
   "source": [
    "df_data_hora.show()"
   ]
  },
  {
   "cell_type": "code",
   "execution_count": null,
   "metadata": {},
   "outputs": [],
   "source": [
    "# Vamos extrair o dia da semana\n",
    "df_data_hora = df_data_hora.withColumn('day_of_week', dayofweek(df_data_hora.date))"
   ]
  },
  {
   "cell_type": "code",
   "execution_count": null,
   "metadata": {},
   "outputs": [],
   "source": [
    "df_data_hora.printSchema()"
   ]
  },
  {
   "cell_type": "code",
   "execution_count": null,
   "metadata": {
    "colab": {
     "base_uri": "https://localhost:8080/"
    },
    "id": "8kmhB2zCEcZN",
    "outputId": "701ae1e3-1176-4e94-d374-fde6d609452e"
   },
   "outputs": [],
   "source": [
    "# Vamos extrair o ano da cotação\n",
    "df_data_hora_ano = df_data_hora.withColumn(\"year\", split(col(\"date\"),\"-\").getItem(0))"
   ]
  },
  {
   "cell_type": "code",
   "execution_count": null,
   "metadata": {},
   "outputs": [],
   "source": [
    "df_data_hora_ano.show()"
   ]
  },
  {
   "cell_type": "code",
   "execution_count": null,
   "metadata": {
    "id": "IfRDjht1EnRU"
   },
   "outputs": [],
   "source": [
    "# Converte o dataframe do Spark para o Pandas. \n",
    "# Por quê? Porque isso vai facilitar a análise exploratória de dados.\n",
    "df_pandas = df_data_hora_ano.toPandas()"
   ]
  },
  {
   "cell_type": "code",
   "execution_count": null,
   "metadata": {},
   "outputs": [],
   "source": [
    "type(df_pandas)"
   ]
  },
  {
   "cell_type": "code",
   "execution_count": null,
   "metadata": {
    "id": "hPFeL6MqEzK1"
   },
   "outputs": [],
   "source": [
    "# Obtendo os valores individuais para usar nos gráficos\n",
    "hour = df_pandas[\"hour\"].values.tolist()\n",
    "weighted_price = df_pandas[\"Weighted_Price\"].values.tolist()\n",
    "volume_BTC = df_pandas[\"VolBTC\"].values.tolist()\n",
    "date_of_week = df_pandas[\"day_of_week\"].values.tolist()\n",
    "year = df_pandas[\"year\"].values.tolist()"
   ]
  },
  {
   "cell_type": "markdown",
   "metadata": {
    "id": "9tkmDU-nFaQ1"
   },
   "source": [
    "## Análise Exploratória\n",
    "\n",
    "Leia os manuais em pdf no Capítulo 11 do curso com detalhes sobre a forma ideal de fazer análise exploratória."
   ]
  },
  {
   "cell_type": "code",
   "execution_count": null,
   "metadata": {
    "colab": {
     "base_uri": "https://localhost:8080/",
     "height": 798
    },
    "id": "TiQ9memLFU7o",
    "outputId": "4c3f0f7b-689c-4d0c-8b2e-8a7fd7c2bbc8"
   },
   "outputs": [],
   "source": [
    "# Heatmap para visualizar a correlação\n",
    "corr = df_pandas.corr()\n",
    "f,ax = plt.subplots(figsize = (10, 10))\n",
    "sns.heatmap(corr, annot = True, linewidths = .5, fmt = '.1f', ax = ax)"
   ]
  },
  {
   "cell_type": "markdown",
   "metadata": {},
   "source": [
    "Idealmente queremos alta correlação entre as variáveis de entrada e a variável de saída e baixa correlação entre as variáveis de entrada!"
   ]
  },
  {
   "cell_type": "code",
   "execution_count": null,
   "metadata": {
    "colab": {
     "base_uri": "https://localhost:8080/",
     "height": 354
    },
    "id": "MyZiZ1TPFtwB",
    "outputId": "9a1813d5-8c59-4dbf-fe5d-72004b8228ef"
   },
   "outputs": [],
   "source": [
    "# Scatter Plot Volume Bitcoin x Volume Moeda\n",
    "plt.figure(figsize = (12,5))\n",
    "sns.set(style = 'whitegrid')\n",
    "df_pandas.plot(kind = 'scatter', x = 'VolBTC', y = 'VolCurrency')\n",
    "plt.xlabel('Volume Bitcoin')            \n",
    "plt.ylabel('Volume Moeda')\n",
    "plt.title('Scatter Plot Volume Bitcoin x Volume Moeda') \n",
    "plt.show()"
   ]
  },
  {
   "cell_type": "code",
   "execution_count": null,
   "metadata": {
    "colab": {
     "base_uri": "https://localhost:8080/",
     "height": 334
    },
    "id": "05VzSva7F2Fi",
    "outputId": "9d7f82da-2bfe-4eca-9477-549a722ba718"
   },
   "outputs": [],
   "source": [
    "# Line Plot Cotação Open x High \n",
    "plt.figure(figsize = (16,5))\n",
    "df_pandas.Open.plot(kind = 'line', \n",
    "                    color = 'r', \n",
    "                    label = 'Open', \n",
    "                    alpha = 0.5, \n",
    "                    linewidth = 5, \n",
    "                    grid = True, \n",
    "                    linestyle = ':')\n",
    "df_pandas.High.plot(color = 'g', \n",
    "                    label = 'High', \n",
    "                    linewidth = 1, \n",
    "                    alpha = 0.5, \n",
    "                    grid = True, \n",
    "                    linestyle = '-.')\n",
    "plt.legend(loc = 'upper left') \n",
    "plt.xlabel('Tempo')\n",
    "plt.ylabel('Cotação')\n",
    "plt.title('Line Plot Cotação Open x High ')\n",
    "plt.show()"
   ]
  },
  {
   "cell_type": "code",
   "execution_count": null,
   "metadata": {
    "colab": {
     "base_uri": "https://localhost:8080/",
     "height": 285
    },
    "id": "JpvxQrWvGAeG",
    "outputId": "baf663e4-f16a-4c53-89eb-fc54d066fd1d"
   },
   "outputs": [],
   "source": [
    "# Histograma da cotação de abertura\n",
    "df_pandas.Open.plot(kind = 'hist', bins = 50)"
   ]
  },
  {
   "cell_type": "code",
   "execution_count": null,
   "metadata": {
    "colab": {
     "base_uri": "https://localhost:8080/",
     "height": 316
    },
    "id": "ngLiJaa2GGdt",
    "outputId": "80f1d27e-2556-44cc-bac1-d2fa2ef06306"
   },
   "outputs": [],
   "source": [
    "# Plot do valor ponderado da cotação (variável alvo) por hora\n",
    "plt.plot(hour, weighted_price , 'g*')\n",
    "plt.xlabel('Hora')            \n",
    "plt.ylabel('Valor Ponderado da Cotação')\n",
    "plt.title('Valor Ponderado da Cotação Por Hora') \n",
    "plt.show()"
   ]
  },
  {
   "cell_type": "code",
   "execution_count": null,
   "metadata": {
    "colab": {
     "base_uri": "https://localhost:8080/",
     "height": 317
    },
    "id": "HxzKBxLWGSuX",
    "outputId": "180a771c-ee05-49ff-ca69-a79b1e879b3b"
   },
   "outputs": [],
   "source": [
    "# Plot do valor ponderado da cotação por dia da semana\n",
    "plt.plot(date_of_week, weighted_price, 'b*')\n",
    "plt.xlabel('Dia da Semana')            \n",
    "plt.ylabel('Valor Ponderado da Cotação')\n",
    "plt.title('Valor Ponderado da Cotação Por Dia da Semana') \n",
    "plt.show()"
   ]
  },
  {
   "cell_type": "code",
   "execution_count": null,
   "metadata": {
    "colab": {
     "base_uri": "https://localhost:8080/",
     "height": 316
    },
    "id": "WBeCmHNxGaLQ",
    "outputId": "979b0dc9-0817-495a-8552-25486d98f58d"
   },
   "outputs": [],
   "source": [
    "# Plot do VolBTC por hora\n",
    "plt.plot(hour, volume_BTC, 'r*')\n",
    "plt.xlabel('Hora')            \n",
    "plt.ylabel('VolBTC')\n",
    "plt.title('Volume Negociado de Bitcoin Por Hora') \n",
    "plt.show()"
   ]
  },
  {
   "cell_type": "code",
   "execution_count": null,
   "metadata": {
    "colab": {
     "base_uri": "https://localhost:8080/",
     "height": 317
    },
    "id": "P0eF5351Gj-p",
    "outputId": "f5de0ac2-e6ea-4c2a-a794-3bb5bb666974"
   },
   "outputs": [],
   "source": [
    "# Plot de VolBTC por dia da semana\n",
    "plt.plot(date_of_week, volume_BTC, 'yo')\n",
    "plt.xlabel('Dia da Semana')            \n",
    "plt.ylabel('VolBTC')\n",
    "plt.title('Volume Negociado de Bitcoin Por Dia da Semana') \n",
    "plt.show()"
   ]
  },
  {
   "cell_type": "code",
   "execution_count": null,
   "metadata": {
    "colab": {
     "base_uri": "https://localhost:8080/",
     "height": 316
    },
    "id": "g5wgxlbRGt-_",
    "outputId": "430abea4-dff7-4d8c-a160-b11a73d7706d"
   },
   "outputs": [],
   "source": [
    "# Plot do valor ponderado da cotação por ano\n",
    "plt.plot(year, weighted_price , 'm^')\n",
    "plt.xlabel('Ano')            \n",
    "plt.ylabel('Valor Ponderado da Cotação')\n",
    "plt.title('Valor Ponderado da Cotação Por Ano') \n",
    "plt.show()"
   ]
  },
  {
   "cell_type": "code",
   "execution_count": null,
   "metadata": {
    "colab": {
     "base_uri": "https://localhost:8080/",
     "height": 316
    },
    "id": "erWh8_FdG2zE",
    "outputId": "d824beba-b50d-4193-8eaf-7f92e8052163"
   },
   "outputs": [],
   "source": [
    "# Plot do Volume por ano\n",
    "plt.plot(year, volume_BTC , 'kD')\n",
    "plt.xlabel('Ano')            \n",
    "plt.ylabel('volume BTC')\n",
    "plt.title('Volume de BTC Negociado Por Ano') \n",
    "plt.show()"
   ]
  },
  {
   "cell_type": "markdown",
   "metadata": {
    "id": "dRo5ze0IHEKj"
   },
   "source": [
    "## Engenharia de Atributos com PySpark"
   ]
  },
  {
   "cell_type": "code",
   "execution_count": null,
   "metadata": {},
   "outputs": [],
   "source": [
    "df_bitcoin.printSchema()"
   ]
  },
  {
   "cell_type": "code",
   "execution_count": null,
   "metadata": {},
   "outputs": [],
   "source": [
    "# Prepara o vetor de atributos\n",
    "assembler = VectorAssembler(inputCols = ['Open', 'VolBTC', 'VolCurrency'], \n",
    "                            outputCol = \"features\")"
   ]
  },
  {
   "cell_type": "code",
   "execution_count": null,
   "metadata": {},
   "outputs": [],
   "source": [
    "# Cria o dataframe do vetor de atributos\n",
    "df_assembled = assembler.transform(df_bitcoin)"
   ]
  },
  {
   "cell_type": "code",
   "execution_count": null,
   "metadata": {
    "colab": {
     "base_uri": "https://localhost:8080/"
    },
    "id": "StWTbF0qG9PO",
    "outputId": "d7a9d528-32ae-4d24-dcb3-95203e75e65f"
   },
   "outputs": [],
   "source": [
    "# Visualiza os dados\n",
    "df_assembled.show(10, truncate = False)"
   ]
  },
  {
   "cell_type": "markdown",
   "metadata": {
    "id": "nm_lbag4Q2z0"
   },
   "source": [
    "## Normalização"
   ]
  },
  {
   "cell_type": "code",
   "execution_count": null,
   "metadata": {
    "id": "iu3u0U77RD4e"
   },
   "outputs": [],
   "source": [
    "# Divisão em dados de treino e teste\n",
    "dados_treino, dados_teste = df_assembled.randomSplit([.7,.3], seed = rnd_seed)"
   ]
  },
  {
   "cell_type": "code",
   "execution_count": null,
   "metadata": {},
   "outputs": [],
   "source": [
    "type(dados_treino)"
   ]
  },
  {
   "cell_type": "code",
   "execution_count": null,
   "metadata": {},
   "outputs": [],
   "source": [
    "# Cria o scaler\n",
    "scaler = MinMaxScaler(inputCol = \"features\", outputCol = \"scaled_features\")"
   ]
  },
  {
   "cell_type": "code",
   "execution_count": null,
   "metadata": {},
   "outputs": [],
   "source": [
    "# Fit nos dados de treino\n",
    "scalerModel = scaler.fit(dados_treino)"
   ]
  },
  {
   "cell_type": "code",
   "execution_count": null,
   "metadata": {},
   "outputs": [],
   "source": [
    "# Fit e transform nos dados de treino\n",
    "dados_treino_scaled = scalerModel.transform(dados_treino)"
   ]
  },
  {
   "cell_type": "code",
   "execution_count": null,
   "metadata": {},
   "outputs": [],
   "source": [
    "# Transform nos dados de teste\n",
    "dados_teste_scaled = scalerModel.transform(dados_teste)"
   ]
  },
  {
   "cell_type": "code",
   "execution_count": null,
   "metadata": {},
   "outputs": [],
   "source": [
    "dados_treino_scaled.select(\"features\", \"scaled_features\").show(10, truncate = False)"
   ]
  },
  {
   "cell_type": "code",
   "execution_count": null,
   "metadata": {
    "colab": {
     "base_uri": "https://localhost:8080/"
    },
    "id": "fNPuY44AQ096",
    "outputId": "4d210d17-5010-4a0f-d062-753aa88f9af3"
   },
   "outputs": [],
   "source": [
    "dados_treino_scaled.columns"
   ]
  },
  {
   "cell_type": "markdown",
   "metadata": {},
   "source": [
    "## Machine Learning"
   ]
  },
  {
   "cell_type": "markdown",
   "metadata": {},
   "source": [
    "> Versão 1 do Modelo (Benchmark)"
   ]
  },
  {
   "cell_type": "code",
   "execution_count": null,
   "metadata": {
    "id": "YA1ZyOJ3RGVJ"
   },
   "outputs": [],
   "source": [
    "# Cria o modelo de regressão\n",
    "modelo_lr_v1 = (LinearRegression(featuresCol = 'scaled_features', \n",
    "                                 labelCol = \"Weighted_Price\", \n",
    "                                 predictionCol = 'Predicted_price', \n",
    "                                 maxIter = 100, \n",
    "                                 regParam = 0.3, \n",
    "                                 elasticNetParam = 0.8, \n",
    "                                 standardization = False))"
   ]
  },
  {
   "cell_type": "code",
   "execution_count": null,
   "metadata": {
    "id": "yPRnllMPRMRv"
   },
   "outputs": [],
   "source": [
    "# Treina o modelo\n",
    "modelo_v1 = modelo_lr_v1.fit(dados_treino_scaled)"
   ]
  },
  {
   "cell_type": "markdown",
   "metadata": {},
   "source": [
    "Se tiver mensagem de WARN, isso indica que o Spark não encontrou a biblioteca de otimização de álgebra linear (que precisa ser instalada, mas não é requerida para este projeto). Mais detalhes aqui:\n",
    "\n",
    "https://spark.apache.org/docs/latest/ml-linalg-guide.html"
   ]
  },
  {
   "cell_type": "code",
   "execution_count": null,
   "metadata": {},
   "outputs": [],
   "source": [
    "# Salva o modelo em disco\n",
    "modelo_v1.write().overwrite().save(\"modelos/modelo_v1\")"
   ]
  },
  {
   "cell_type": "markdown",
   "metadata": {},
   "source": [
    "## Avaliação do Modelo"
   ]
  },
  {
   "cell_type": "code",
   "execution_count": null,
   "metadata": {},
   "outputs": [],
   "source": [
    "# Previsões com dados de teste\n",
    "previsoes_v1 = modelo_v1.transform(dados_teste_scaled)"
   ]
  },
  {
   "cell_type": "code",
   "execution_count": null,
   "metadata": {
    "colab": {
     "base_uri": "https://localhost:8080/"
    },
    "id": "1kbl3LPYQs1F",
    "outputId": "dc44635b-4eff-4d47-b293-d771c894d401"
   },
   "outputs": [],
   "source": [
    "# Seleciona as colunas\n",
    "pred_data_v1 = previsoes_v1.select(\"Predicted_price\", \"Weighted_Price\").show(10)"
   ]
  },
  {
   "cell_type": "code",
   "execution_count": null,
   "metadata": {
    "colab": {
     "base_uri": "https://localhost:8080/"
    },
    "id": "CyegPQDYUgpS",
    "outputId": "e975ba51-f7d4-4a0e-ebc2-5dcf19bfdaaf"
   },
   "outputs": [],
   "source": [
    "# Mean Absolute Error\n",
    "print(\"Mean Absolute Error (MAE) nos dados de teste: {0}\".format(modelo_v1.summary.meanAbsoluteError))"
   ]
  },
  {
   "cell_type": "code",
   "execution_count": null,
   "metadata": {},
   "outputs": [],
   "source": [
    "# Cria um avaliador para o modelo de regressão\n",
    "evaluator = RegressionEvaluator(labelCol = \"Weighted_Price\", \n",
    "                                predictionCol = \"Predicted_price\", \n",
    "                                metricName = \"rmse\")"
   ]
  },
  {
   "cell_type": "code",
   "execution_count": null,
   "metadata": {
    "colab": {
     "base_uri": "https://localhost:8080/"
    },
    "id": "U8P-5aiTRlEQ",
    "outputId": "816db6a9-fefc-4e24-e18e-db526d2877a9"
   },
   "outputs": [],
   "source": [
    "# Aplica o avaliador\n",
    "rmse_v1 = evaluator.evaluate(previsoes_v1)\n",
    "print(\"Root Mean Squared Error (RMSE) nos dados de teste = %g\" % rmse_v1)"
   ]
  },
  {
   "cell_type": "code",
   "execution_count": null,
   "metadata": {},
   "outputs": [],
   "source": [
    "# Extrai as previsões\n",
    "pred_results_v1 = modelo_v1.evaluate(dados_teste_scaled)"
   ]
  },
  {
   "cell_type": "code",
   "execution_count": null,
   "metadata": {},
   "outputs": [],
   "source": [
    "# Valores reais de Y sendo convertidos para o formato do Pandas\n",
    "Y = pred_results_v1.predictions.select('Weighted_Price').toPandas()"
   ]
  },
  {
   "cell_type": "code",
   "execution_count": null,
   "metadata": {},
   "outputs": [],
   "source": [
    "# Valores previstos de Y sendo convertidos para o formato do Pandas\n",
    "_Y = pred_results_v1.predictions.select(\"Predicted_price\").toPandas()"
   ]
  },
  {
   "cell_type": "code",
   "execution_count": null,
   "metadata": {
    "colab": {
     "base_uri": "https://localhost:8080/",
     "height": 375
    },
    "id": "OpQ2cQD7S4fy",
    "outputId": "98d34558-a74c-4017-8a94-df98eeca6033"
   },
   "outputs": [],
   "source": [
    "# Distribuição dos valores reais x valores previstos\n",
    "sns.set_style(\"dark\")\n",
    "ax1 = sns.displot(Y, color = \"r\", label = \"Valores Reais\")\n",
    "sns.displot(_Y, color = \"b\", label = \"Valores Previstos\")"
   ]
  },
  {
   "cell_type": "code",
   "execution_count": null,
   "metadata": {
    "colab": {
     "base_uri": "https://localhost:8080/",
     "height": 498
    },
    "id": "jLEikiKxUEvt",
    "outputId": "b1056043-ba8e-4767-84a6-3afb76cd61d7"
   },
   "outputs": [],
   "source": [
    "# Plot dos valores reais x valores previstos\n",
    "plt.figure(figsize = (12,7))\n",
    "plt.plot(Y, color = 'green', marker = '*', linestyle = 'dashed', label = 'Predicted Price')\n",
    "plt.plot(_Y, color = 'red', label = 'Weighted Price')\n",
    "plt.title('Resultado do Modelo')\n",
    "plt.xlabel('Valor Real')\n",
    "plt.ylabel('Valor Previsto')\n",
    "plt.legend()"
   ]
  },
  {
   "cell_type": "markdown",
   "metadata": {},
   "source": [
    "> Versão 2 do Modelo (Otimização de Hiperparâmetros)"
   ]
  },
  {
   "cell_type": "code",
   "execution_count": null,
   "metadata": {},
   "outputs": [],
   "source": [
    "# Cria o modelo\n",
    "modelo_lr_v2 = (LinearRegression(featuresCol = 'scaled_features', \n",
    "                                 labelCol = \"Weighted_Price\", \n",
    "                                 predictionCol = 'Predicted_price'))"
   ]
  },
  {
   "cell_type": "code",
   "execution_count": null,
   "metadata": {},
   "outputs": [],
   "source": [
    "# Cria um grid para otimização de hiperparâmetros\n",
    "grid = ParamGridBuilder().addGrid(modelo_lr_v2.maxIter, [50, 100]).build()"
   ]
  },
  {
   "cell_type": "code",
   "execution_count": null,
   "metadata": {},
   "outputs": [],
   "source": [
    "# Cria o avaliador (será usado na validação cruzada)\n",
    "evaluator = RegressionEvaluator(labelCol = \"Weighted_Price\", \n",
    "                                predictionCol = \"Predicted_price\", \n",
    "                                metricName = \"rmse\")"
   ]
  },
  {
   "cell_type": "code",
   "execution_count": null,
   "metadata": {},
   "outputs": [],
   "source": [
    "# Cria o CrossValidator\n",
    "cv = CrossValidator(estimator = modelo_lr_v2, estimatorParamMaps = grid, evaluator = evaluator, parallelism = 2)"
   ]
  },
  {
   "cell_type": "code",
   "execution_count": null,
   "metadata": {},
   "outputs": [],
   "source": [
    "# Treina o CrossValidator\n",
    "cvModel = cv.fit(dados_treino_scaled)"
   ]
  },
  {
   "cell_type": "code",
   "execution_count": null,
   "metadata": {},
   "outputs": [],
   "source": [
    "# Extrai o melhor modelo do CrossValidator\n",
    "modelo_v2 = cvModel.bestModel"
   ]
  },
  {
   "cell_type": "code",
   "execution_count": null,
   "metadata": {},
   "outputs": [],
   "source": [
    "# Salva o modelo em disco\n",
    "modelo_v2.write().overwrite().save(\"modelos/modelo_v2\")"
   ]
  },
  {
   "cell_type": "markdown",
   "metadata": {},
   "source": [
    "## Avaliação do Modelo"
   ]
  },
  {
   "cell_type": "code",
   "execution_count": null,
   "metadata": {},
   "outputs": [],
   "source": [
    "# Previsões com dados de teste\n",
    "previsoes_v2 = modelo_v2.transform(dados_teste_scaled)"
   ]
  },
  {
   "cell_type": "code",
   "execution_count": null,
   "metadata": {},
   "outputs": [],
   "source": [
    "# Seleciona as colunas\n",
    "pred_data_v2 = previsoes_v2.select(\"Predicted_price\", \"Weighted_Price\").show(10)"
   ]
  },
  {
   "cell_type": "code",
   "execution_count": null,
   "metadata": {},
   "outputs": [],
   "source": [
    "# Mean Absolute Error\n",
    "print(\"MAE: {0}\".format(modelo_v2.summary.meanAbsoluteError))"
   ]
  },
  {
   "cell_type": "code",
   "execution_count": null,
   "metadata": {},
   "outputs": [],
   "source": [
    "evaluator = RegressionEvaluator(labelCol = \"Weighted_Price\", \n",
    "                                predictionCol = \"Predicted_price\", \n",
    "                                metricName = \"rmse\")"
   ]
  },
  {
   "cell_type": "code",
   "execution_count": null,
   "metadata": {},
   "outputs": [],
   "source": [
    "# Aplica o avaliador\n",
    "rmse_v2 = evaluator.evaluate(previsoes_v2)\n",
    "print(\"Root Mean Squared Error (RMSE) nos dados de teste = %g\" % rmse_v2)"
   ]
  },
  {
   "cell_type": "code",
   "execution_count": null,
   "metadata": {},
   "outputs": [],
   "source": [
    "# Plot dos valores reais x valores previstos\n",
    "\n",
    "# Extrai as previsões\n",
    "pred_results_v2 = modelo_v2.evaluate(dados_teste_scaled)\n",
    "\n",
    "# Valores reais de Y sendo convertidos para o formato do Pandas\n",
    "Y = pred_results_v2.predictions.select('Weighted_Price').toPandas()\n",
    "\n",
    "# Valores previstos de Y sendo convertidos para o formato do Pandas\n",
    "_Y = pred_results_v2.predictions.select(\"Predicted_price\").toPandas()\n",
    "\n",
    "# Plot\n",
    "sns.set_style(\"dark\")\n",
    "ax1 = sns.displot(Y, color = \"r\", label = \"Valores Reais\")\n",
    "sns.displot(_Y, color = \"b\", label = \"Valores Previstos\")"
   ]
  },
  {
   "cell_type": "code",
   "execution_count": null,
   "metadata": {},
   "outputs": [],
   "source": [
    "# Plot dos valores reais x valores previstos\n",
    "plt.figure(figsize = (12,7))\n",
    "plt.plot(Y, color = 'green', marker = '*', linestyle = 'dashed', label = 'Predicted Price')\n",
    "plt.plot(_Y, color = 'red', label = 'Weighted Price')\n",
    "plt.title('Resultado do Modelo')\n",
    "plt.xlabel('Valor Real')\n",
    "plt.ylabel('Valor Previsto')\n",
    "plt.legend()"
   ]
  },
  {
   "cell_type": "markdown",
   "metadata": {},
   "source": [
    "As mensagens de WARN no treinamento do modelo_v2 indicam que o modelo parece instável e talvez esteja com overfitting. Usaremos o modelo_v1."
   ]
  },
  {
   "cell_type": "markdown",
   "metadata": {},
   "source": [
    "## Previsões em Tempo Real"
   ]
  },
  {
   "cell_type": "code",
   "execution_count": null,
   "metadata": {},
   "outputs": [],
   "source": [
    "# Novos dados\n",
    "novos_dados = [[20546.29, 3422.57, 72403082.02], [21620.85, 3271.14, 71319207.5]]"
   ]
  },
  {
   "cell_type": "code",
   "execution_count": null,
   "metadata": {},
   "outputs": [],
   "source": [
    "# Prepara o dataframe do Pandas\n",
    "df_novos_dados = pd.DataFrame(novos_dados, columns = ['Open', 'VolBTC', 'VolCurrency'])"
   ]
  },
  {
   "cell_type": "code",
   "execution_count": null,
   "metadata": {},
   "outputs": [],
   "source": [
    "# Visualiza\n",
    "df_novos_dados"
   ]
  },
  {
   "cell_type": "code",
   "execution_count": null,
   "metadata": {},
   "outputs": [],
   "source": [
    "# Converte o dataframe do Pandas para dataframe do Spark\n",
    "df_novos_dados_spark = spark_session.createDataFrame(df_novos_dados) "
   ]
  },
  {
   "cell_type": "code",
   "execution_count": null,
   "metadata": {},
   "outputs": [],
   "source": [
    "# Schema\n",
    "df_novos_dados_spark.printSchema()"
   ]
  },
  {
   "cell_type": "code",
   "execution_count": null,
   "metadata": {},
   "outputs": [],
   "source": [
    "# Visualiza\n",
    "df_novos_dados_spark.show()"
   ]
  },
  {
   "cell_type": "code",
   "execution_count": null,
   "metadata": {},
   "outputs": [],
   "source": [
    "# Cria o dataframe do vetor de atributos\n",
    "df_assembled = assembler.transform(df_novos_dados_spark)"
   ]
  },
  {
   "cell_type": "code",
   "execution_count": null,
   "metadata": {},
   "outputs": [],
   "source": [
    "# Visualiza os dados\n",
    "df_assembled.show()"
   ]
  },
  {
   "cell_type": "code",
   "execution_count": null,
   "metadata": {},
   "outputs": [],
   "source": [
    "# Normaliza os dados\n",
    "df_assembled_scaled = scalerModel.transform(df_assembled)"
   ]
  },
  {
   "cell_type": "code",
   "execution_count": null,
   "metadata": {},
   "outputs": [],
   "source": [
    "# Previsões com os novos dados\n",
    "previsoes = modelo_v1.transform(df_assembled_scaled)"
   ]
  },
  {
   "cell_type": "code",
   "execution_count": null,
   "metadata": {},
   "outputs": [],
   "source": [
    "# Imprime as previsões\n",
    "pred_data = previsoes.select(\"Predicted_price\").show()"
   ]
  },
  {
   "cell_type": "code",
   "execution_count": null,
   "metadata": {
    "id": "wOR_mZjfUWW3"
   },
   "outputs": [],
   "source": [
    "# Encerra a sessão Spark\n",
    "spark_session.stop()"
   ]
  },
  {
   "cell_type": "markdown",
   "metadata": {},
   "source": [
    "# Fim"
   ]
  }
 ],
 "metadata": {
  "colab": {
   "name": "BitCoinTrend.ipynb",
   "provenance": []
  },
  "kernelspec": {
   "display_name": "Python 3 (ipykernel)",
   "language": "python",
   "name": "python3"
  },
  "language_info": {
   "codemirror_mode": {
    "name": "ipython",
    "version": 3
   },
   "file_extension": ".py",
   "mimetype": "text/x-python",
   "name": "python",
   "nbconvert_exporter": "python",
   "pygments_lexer": "ipython3",
   "version": "3.11.4"
  }
 },
 "nbformat": 4,
 "nbformat_minor": 1
}
